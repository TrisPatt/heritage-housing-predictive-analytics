{
  "cells": [
    {
      "cell_type": "markdown",
      "metadata": {
        "id": "0aStgWSO0E0E"
      },
      "source": [
        "# **Heritage house price correlation notebook**"
      ]
    },
    {
      "cell_type": "markdown",
      "metadata": {
        "id": "1eLEkw5O0ECa"
      },
      "source": [
        "## Objectives\n",
        "\n",
        "* Answer business requirement 1:\n",
        "    * The client is interested in discovering how the house attributes correlate with the sale price. Therefore, the client expects data visilisations of the correlated variables against the sale price to showcase this.\n",
        "\n",
        "\n",
        "## Inputs\n",
        "\n",
        "* inputs/datasets/raw/house-price-20211124T154130Z-001\n",
        "\n",
        "## Outputs\n",
        "\n",
        "* Generate code that answers business requirement 1 and can be used to build the Streamlit App\n",
        "\n",
        "\n"
      ]
    },
    {
      "cell_type": "markdown",
      "metadata": {
        "id": "9uWZXH9LwoQg"
      },
      "source": [
        "---"
      ]
    },
    {
      "cell_type": "markdown",
      "metadata": {
        "id": "cqP-UeN-z3i2"
      },
      "source": [
        "# Change working directory"
      ]
    },
    {
      "cell_type": "markdown",
      "metadata": {
        "id": "aOGIGS-uz3i2"
      },
      "source": [
        "We need to change the working directory from its current folder to its parent folder\n",
        "* We access the current directory with os.getcwd()"
      ]
    },
    {
      "cell_type": "code",
      "execution_count": null,
      "metadata": {
        "id": "wZfF_j-Bz3i4",
        "outputId": "66943449-1436-4c3d-85c7-b85f9f78349b"
      },
      "outputs": [],
      "source": [
        "import os\n",
        "current_dir = os.getcwd()\n",
        "current_dir"
      ]
    },
    {
      "cell_type": "markdown",
      "metadata": {
        "id": "9MWW8E7lz3i7"
      },
      "source": [
        "We want to make the parent of the current directory the new current directory\n",
        "* os.path.dirname() gets the parent directory\n",
        "* os.chir() defines the new current directory"
      ]
    },
    {
      "cell_type": "code",
      "execution_count": null,
      "metadata": {
        "id": "TwHsQRWjz3i9",
        "outputId": "86849db3-cd2f-4cc5-ebb8-2d0caafa1a2c"
      },
      "outputs": [],
      "source": [
        "os.chdir(os.path.dirname(current_dir))\n",
        "print(\"You set a new current directory\")"
      ]
    },
    {
      "cell_type": "markdown",
      "metadata": {
        "id": "M_xPk_Ijz3i-"
      },
      "source": [
        "Confirm the new current directory"
      ]
    },
    {
      "cell_type": "code",
      "execution_count": null,
      "metadata": {
        "id": "vz3S-_kjz3jA",
        "outputId": "00b79ae4-75d0-4a96-d193-ac9ef9847ea2"
      },
      "outputs": [],
      "source": [
        "current_dir = os.getcwd()\n",
        "current_dir"
      ]
    },
    {
      "cell_type": "markdown",
      "metadata": {
        "id": "-mavJ8DibrcQ"
      },
      "source": [
        "# Load data"
      ]
    },
    {
      "cell_type": "markdown",
      "metadata": {},
      "source": [
        "As specified in the data collection notebook, I have dropped the two categories with very high number of missing values."
      ]
    },
    {
      "cell_type": "code",
      "execution_count": null,
      "metadata": {},
      "outputs": [],
      "source": [
        "import pandas as pd\n",
        "df = (pd.read_csv(f\"inputs/datasets/raw/house-price-20211124T154130Z-001/house-price/house_prices_records.csv\")\n",
        "        .drop(['EnclosedPorch', 'WoodDeckSF'], axis=1)\n",
        "    )\n",
        "df.head()"
      ]
    },
    {
      "cell_type": "markdown",
      "metadata": {
        "id": "ZY3l0-AxO93d"
      },
      "source": [
        "---"
      ]
    },
    {
      "cell_type": "markdown",
      "metadata": {
        "id": "uFQo3ycuO-v6"
      },
      "source": [
        "# Data Exploration"
      ]
    },
    {
      "cell_type": "markdown",
      "metadata": {},
      "source": [
        "We are interested to get more familiar with the dataset, check variable type and distribution, missing levels and what these variables mean in a business context"
      ]
    },
    {
      "cell_type": "code",
      "execution_count": null,
      "metadata": {},
      "outputs": [],
      "source": [
        "from ydata_profiling import ProfileReport\n",
        "pandas_report = ProfileReport(df=df, minimal=True)\n",
        "pandas_report.to_notebook_iframe()"
      ]
    },
    {
      "cell_type": "markdown",
      "metadata": {},
      "source": [
        "---"
      ]
    },
    {
      "cell_type": "markdown",
      "metadata": {},
      "source": [
        "# Correlation Study"
      ]
    },
    {
      "cell_type": "markdown",
      "metadata": {},
      "source": [
        "* One Hot Encoding has been used to create binary categories for GarageFinish.\n",
        "* Ordinal encoding has been used to map BsmtExposure, BsmtFinType1 and KitchenQual, as these have ordinal relativity to their categories.<br><br>This setup should yield a more interpretable correlation matrix where higher values in each feature correspond more directly with SalePrice."
      ]
    },
    {
      "cell_type": "code",
      "execution_count": null,
      "metadata": {},
      "outputs": [],
      "source": [
        "df_ohe = pd.get_dummies(df, columns=['GarageFinish'], prefix='GarageFinish', drop_first=True)\n",
        "\n",
        "bsmt_exposure_mapping = {'None': 0, 'No': 1, 'Mn': 2, 'Av': 3, 'Gd': 4}\n",
        "bsmt_fin_type1_mapping = {'None': 0, 'Unf': 1, 'LwQ': 2, 'Rec': 3, 'BLQ': 4, 'ALQ': 5, 'GLQ': 6}\n",
        "kitchen_qual_mapping = {'Po': 1, 'Fa': 2, 'TA': 3, 'Gd': 4, 'Ex': 5}\n",
        "\n",
        "df_ohe['BsmtExposure'] = df['BsmtExposure'].map(bsmt_exposure_mapping)\n",
        "df_ohe['BsmtFinType1'] = df['BsmtFinType1'].map(bsmt_fin_type1_mapping)\n",
        "df_ohe['KitchenQual'] = df['KitchenQual'].map(kitchen_qual_mapping)\n",
        "\n",
        "df.head()\n"
      ]
    },
    {
      "cell_type": "markdown",
      "metadata": {},
      "source": [
        "We use `.corr()` for `spearman` and `pearson` methods, and investigate the top 10 correlations\n",
        "* We sort values considering the absolute value, by setting `key=abs`"
      ]
    },
    {
      "cell_type": "code",
      "execution_count": null,
      "metadata": {},
      "outputs": [],
      "source": [
        "corr_spearman = df_ohe.corr(method='spearman')['SalePrice'].sort_values(key=abs, ascending=False).head(10)\n",
        "corr_spearman"
      ]
    },
    {
      "cell_type": "markdown",
      "metadata": {},
      "source": [
        "We do the same for `pearson`"
      ]
    },
    {
      "cell_type": "code",
      "execution_count": null,
      "metadata": {},
      "outputs": [],
      "source": [
        "corr_pearson = df_ohe.corr(method='pearson')['SalePrice'].sort_values(key=abs, ascending=False).head(10)\n",
        "corr_pearson"
      ]
    },
    {
      "cell_type": "markdown",
      "metadata": {},
      "source": [
        "Both the Spearman and Pearson correlation coefficients reveal key features that are strongly correlated with the Sale price.<br><br>\n",
        "* The Overall quality, ground living area and kitchen quality have the highest positive correlation in both analyses.\n",
        "* Garage area and Total basement area both show strong positive relationships, highlighting the added value of larger, functional spaces.\n",
        "* Year built and Year of Remodel are also correlated, meaning newer and more recently renovated homes tend to have higher values, although year of remodel has a lower corellation overall.\n",
        "* 1st floor area also has a high correlation and I believe is a critical feature for predicting the house price."
      ]
    },
    {
      "cell_type": "markdown",
      "metadata": {},
      "source": [
        "Based on this, I will investigate the most relevant variables correlated to the sale price, which I believe to be:\n",
        "* OverallQual - Overall quality of the build\n",
        "* GrLivArea - Ground Living area\n",
        "* GarageArea - Garage area\n",
        "* TotalBsmtSF - Total basement area\n",
        "* YearBuilt - Year of construction\n",
        "* 1stFlrSF - 1st floor area\n"
      ]
    },
    {
      "cell_type": "code",
      "execution_count": null,
      "metadata": {},
      "outputs": [],
      "source": [
        "vars_to_study = ['OverallQual', 'GrLivArea', 'GarageArea', 'TotalBsmtSF', 'YearBuilt', '1stFlrSF']\n",
        "vars_to_study"
      ]
    },
    {
      "cell_type": "markdown",
      "metadata": {},
      "source": [
        "# EDA on selected variables"
      ]
    },
    {
      "cell_type": "code",
      "execution_count": null,
      "metadata": {},
      "outputs": [],
      "source": [
        "df_eda = df.filter(vars_to_study + ['SalePrice'])\n",
        "df_eda.head(3)"
      ]
    },
    {
      "cell_type": "markdown",
      "metadata": {},
      "source": [
        "## Variables Distribution by Sale Price"
      ]
    },
    {
      "cell_type": "markdown",
      "metadata": {},
      "source": [
        "The following scatter plots show the correlation between continuous variables (GrLivArea, GarageArea, TotalBsmtSF, 1stFlrSF, YearBuilt) and SalePrice."
      ]
    },
    {
      "cell_type": "code",
      "execution_count": null,
      "metadata": {},
      "outputs": [],
      "source": [
        "import matplotlib.pyplot as plt\n",
        "import seaborn as sns\n",
        "import matplotlib.ticker as mtick\n",
        "sns.set(style=\"whitegrid\")\n",
        "\n",
        "df_eda['PriceCategory'] = pd.qcut(df_eda['SalePrice'], q=3, labels=['Low', 'Medium', 'High'])\n",
        "\n",
        "plt.figure(figsize=(15, 10))\n",
        "\n",
        "for i, var in enumerate(['GrLivArea', 'GarageArea', 'TotalBsmtSF', '1stFlrSF', 'YearBuilt']):\n",
        "    plt.subplot(2, 3, i+1)\n",
        "    sns.regplot(data=df_eda, x=var, y='SalePrice', scatter_kws={'s': 10}, line_kws={\"color\": \"red\"})\n",
        "    plt.title(f'SalePrice vs {var}')\n",
        "    plt.xlabel(var)\n",
        "    plt.ylabel('SalePrice')\n",
        "\n",
        "    plt.gca().yaxis.set_major_formatter(mtick.FuncFormatter(lambda x, _: f'{int(x/1000)}k'))\n",
        "\n",
        "plt.subplots_adjust(hspace=0.4, wspace=0.3)\n",
        "plt.show()"
      ]
    },
    {
      "cell_type": "markdown",
      "metadata": {},
      "source": [
        "The following box plot displays the median and quartile ranges of SalePrice across different quality levels, highlighting the spread of values within each quality rating."
      ]
    },
    {
      "cell_type": "code",
      "execution_count": null,
      "metadata": {},
      "outputs": [],
      "source": [
        "plt.figure(figsize=(8, 6))\n",
        "sns.boxplot(data=df_eda, x='OverallQual', y='SalePrice', palette='viridis')\n",
        "plt.title('SalePrice vs OverallQual')\n",
        "plt.xlabel('OverallQual')\n",
        "plt.ylabel('SalePrice')\n",
        "plt.show()"
      ]
    },
    {
      "cell_type": "markdown",
      "metadata": {},
      "source": [
        "---"
      ]
    },
    {
      "cell_type": "markdown",
      "metadata": {},
      "source": [
        "# Heat Map"
      ]
    },
    {
      "cell_type": "code",
      "execution_count": null,
      "metadata": {},
      "outputs": [],
      "source": [
        "import seaborn as sns\n",
        "import matplotlib.pyplot as plt\n",
        "\n",
        "corr_spearman = df_selected.corr(method='spearman')\n",
        "corr_pearson = df_selected.corr(method='pearson')\n",
        "\n",
        "combined_corr = (corr_spearman + corr_pearson) / 2\n",
        "\n",
        "plt.figure(figsize=(10, 8))\n",
        "sns.heatmap(combined_corr, annot=True, cmap='coolwarm', center=0, vmin=-1, vmax=1)\n",
        "plt.title(\"Combined Average Correlation (Spearman & Pearson)\")\n",
        "plt.show()"
      ]
    },
    {
      "cell_type": "markdown",
      "metadata": {},
      "source": [
        "# Conclusions and Next Steps\n",
        "\n",
        "* The analysis indicates that the overall build quality of a property (OverallQual) exhibits the strongest correlation with the Sale Price (SalePrice). This relationship is clearly illustrated in the box plot and is further supported by the highest correlation coefficients observed in both the Pearson and Spearman correlation methods.\n",
        "\n",
        "* The variables ground living area (GrLivArea), 1st floor square footage (1stFlrSF), total basement area (TotalBsmtSF), and garage area (GarageArea) also show significant correlations with Sale Price. The accompanying scatterplots demonstrate steep positive linear regression lines, suggesting that these features play a substantial role in determining the sale price of a property.\n",
        "\n",
        "* The year built (YearBuilt) has a stong correlation also so should not be overlooked. The scatterplot shows a positive linear regression. "
      ]
    }
  ],
  "metadata": {
    "accelerator": "GPU",
    "colab": {
      "name": "Data Practitioner Jupyter Notebook.ipynb",
      "provenance": [],
      "toc_visible": true
    },
    "interpreter": {
      "hash": "8b8334dab9339717f727a1deaf837b322d7a41c20d15cc86be99a8e69ceec8ce"
    },
    "kernelspec": {
      "display_name": "Python 3.8.12 64-bit ('3.8.12': pyenv)",
      "name": "python3"
    },
    "language_info": {
      "codemirror_mode": {
        "name": "ipython",
        "version": 3
      },
      "file_extension": ".py",
      "mimetype": "text/x-python",
      "name": "python",
      "nbconvert_exporter": "python",
      "pygments_lexer": "ipython3",
      "version": "3.8.18"
    },
    "orig_nbformat": 2
  },
  "nbformat": 4,
  "nbformat_minor": 2
}
